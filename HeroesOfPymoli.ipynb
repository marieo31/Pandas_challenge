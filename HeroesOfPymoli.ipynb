{
 "cells": [
  {
   "cell_type": "markdown",
   "metadata": {},
   "source": [
    "### Heroes Of Pymoli Data Analysis\n",
    "* Of the 1163 active players, the vast majority are male (84%). There also exists, a smaller, but notable proportion of female players (14%).\n",
    "\n",
    "* Our peak age demographic falls between 20-24 (44.8%) with secondary groups falling between 15-19 (18.60%) and 25-29 (13.4%).  \n",
    "-----"
   ]
  },
  {
   "cell_type": "markdown",
   "metadata": {},
   "source": [
    "### Note\n",
    "* Instructions have been included for each segment. You do not have to follow them exactly, but they are included to help you think through the steps."
   ]
  },
  {
   "cell_type": "code",
   "execution_count": 1,
   "metadata": {},
   "outputs": [],
   "source": [
    "# Dependencies and Setup\n",
    "import pandas as pd\n",
    "import numpy as np\n",
    "\n",
    "# File to Load (Remember to Change These)\n",
    "file_to_load = \"Resources/purchase_data.csv\"\n",
    "\n",
    "# Read Purchasing File and store into Pandas data frame\n",
    "purchase_data = pd.read_csv(file_to_load)\n",
    "# purchase_data.head()"
   ]
  },
  {
   "cell_type": "code",
   "execution_count": 8,
   "metadata": {},
   "outputs": [],
   "source": [
    "# Some useful methods\n",
    "def format_numeric(df, clabel, vtype='dollar'):\n",
    "    \"\"\"\n",
    "    To format the prices values\n",
    "    @df : Dataframe to be formatted\n",
    "    @clabel : (str) label of the column to be formated\n",
    "    @vtype : (str) describing the type of value -> \"dollar\" / \"percent\"\n",
    "    \"\"\"\n",
    "    if vtype is \"dollar\":\n",
    "        df[clabel] = df[clabel].map(\"${:,.2f}\".format)\n",
    "    elif vtype is \"percent\":\n",
    "        df[clabel] = df[clabel].map(\"{:.2f}%\".format)\n",
    "#         df[clabel] = df[clabel].map(\"{:.2f}\".format)\n",
    "    else:\n",
    "        print('unrognized format --> df not modified')\n",
    "    \n",
    "    return df\n",
    "\n",
    "def format_numeric2(df, clabel_list, vtype_list):\n",
    "    \"\"\"\n",
    "    To format the prices values\n",
    "    @df : Dataframe to be formatted\n",
    "    @clabel : list of str, labels of the columns to be formated\n",
    "    @vtype : list of str describing the type of value -> \"dollar\" / \"percent\"\n",
    "    \"\"\"\n",
    "    df2 = pd.DataFrame()\n",
    "    for ii in range(len(clabel_list)):\n",
    "        clabel = clabel_list[ii]\n",
    "        vtype = vtype_list[ii]\n",
    "        if vtype is \"dollar\":\n",
    "            df2[clabel] = df[clabel].map(\"${:,.2f}\".format)\n",
    "        elif vtype is \"percent\":\n",
    "            df2[clabel] = df[clabel].map(\"{:.2f}%\".format)\n",
    "        elif  vtype is \"integer\":\n",
    "            df2[clabel] = df[clabel].map(\"{:,i}\".format)\n",
    "        elif vtype is \"2d_float\":\n",
    "            df2[clabel] = df[clabel].map(\"{:,.2f}\".format)\n",
    "        else:\n",
    "            print('unrognized format --> df not modified')\n",
    "            df2[clabel] = df[clabel]\n",
    "    \n",
    "    return df2\n",
    "\n"
   ]
  },
  {
   "cell_type": "code",
   "execution_count": 3,
   "metadata": {},
   "outputs": [],
   "source": [
    "# df2 = pd.DataFrame()\n"
   ]
  },
  {
   "cell_type": "markdown",
   "metadata": {},
   "source": [
    "## Player Count"
   ]
  },
  {
   "cell_type": "markdown",
   "metadata": {},
   "source": [
    "* Display the total number of players\n"
   ]
  },
  {
   "cell_type": "code",
   "execution_count": 4,
   "metadata": {},
   "outputs": [
    {
     "data": {
      "text/html": [
       "<div>\n",
       "<style scoped>\n",
       "    .dataframe tbody tr th:only-of-type {\n",
       "        vertical-align: middle;\n",
       "    }\n",
       "\n",
       "    .dataframe tbody tr th {\n",
       "        vertical-align: top;\n",
       "    }\n",
       "\n",
       "    .dataframe thead th {\n",
       "        text-align: right;\n",
       "    }\n",
       "</style>\n",
       "<table border=\"1\" class=\"dataframe\">\n",
       "  <thead>\n",
       "    <tr style=\"text-align: right;\">\n",
       "      <th></th>\n",
       "      <th>Total players</th>\n",
       "    </tr>\n",
       "  </thead>\n",
       "  <tbody>\n",
       "    <tr>\n",
       "      <th>0</th>\n",
       "      <td>576</td>\n",
       "    </tr>\n",
       "  </tbody>\n",
       "</table>\n",
       "</div>"
      ],
      "text/plain": [
       "   Total players\n",
       "0            576"
      ]
     },
     "execution_count": 4,
     "metadata": {},
     "output_type": "execute_result"
    }
   ],
   "source": [
    "# Number of unique values in the column SN\n",
    "total_player = purchase_data['SN'].nunique()\n",
    "pd.DataFrame({\"Total players\" : [total_player]})"
   ]
  },
  {
   "cell_type": "markdown",
   "metadata": {},
   "source": [
    "## Purchasing Analysis (Total)"
   ]
  },
  {
   "cell_type": "markdown",
   "metadata": {},
   "source": [
    "* Run basic calculations to obtain number of unique items, average price, etc.\n",
    "\n",
    "\n",
    "* Create a summary data frame to hold the results\n",
    "\n",
    "\n",
    "* Optional: give the displayed data cleaner formatting\n",
    "\n",
    "\n",
    "* Display the summary data frame\n"
   ]
  },
  {
   "cell_type": "code",
   "execution_count": 9,
   "metadata": {
    "scrolled": true
   },
   "outputs": [
    {
     "name": "stdout",
     "output_type": "stream",
     "text": [
      "unrognized format --> df not modified\n",
      "unrognized format --> df not modified\n"
     ]
    },
    {
     "data": {
      "text/html": [
       "<div>\n",
       "<style scoped>\n",
       "    .dataframe tbody tr th:only-of-type {\n",
       "        vertical-align: middle;\n",
       "    }\n",
       "\n",
       "    .dataframe tbody tr th {\n",
       "        vertical-align: top;\n",
       "    }\n",
       "\n",
       "    .dataframe thead th {\n",
       "        text-align: right;\n",
       "    }\n",
       "</style>\n",
       "<table border=\"1\" class=\"dataframe\">\n",
       "  <thead>\n",
       "    <tr style=\"text-align: right;\">\n",
       "      <th></th>\n",
       "      <th>Number of Unique Items</th>\n",
       "      <th>Average Price</th>\n",
       "      <th>Number of Purchases</th>\n",
       "      <th>Total Revenue</th>\n",
       "    </tr>\n",
       "  </thead>\n",
       "  <tbody>\n",
       "    <tr>\n",
       "      <th>0</th>\n",
       "      <td>183</td>\n",
       "      <td>$3.05</td>\n",
       "      <td>780</td>\n",
       "      <td>$2,379.77</td>\n",
       "    </tr>\n",
       "  </tbody>\n",
       "</table>\n",
       "</div>"
      ],
      "text/plain": [
       "   Number of Unique Items Average Price  Number of Purchases Total Revenue\n",
       "0                     183         $3.05                  780     $2,379.77"
      ]
     },
     "execution_count": 9,
     "metadata": {},
     "output_type": "execute_result"
    }
   ],
   "source": [
    "# Calculations for : nb of unique items, average price, total etc..\n",
    "#----------------------------------------------------------------\n",
    "# nb_unique_item = \n",
    "# avg_price = \n",
    "# nb_purchase = \n",
    "# total = \n",
    "\n",
    "# Summary data-frame with nb of unique items, avg prices, total etc...\n",
    "summary = pd.DataFrame({\"Number of Unique Items\" : [purchase_data['Item ID'].nunique()],\n",
    "                       \"Average Price\" : [purchase_data['Price'].mean()],\n",
    "                       \"Number of Purchases\" : [purchase_data['Purchase ID'].count()],\n",
    "                       \"Total Revenue\" : [purchase_data['Price'].sum()]})\n",
    "# Formatting\n",
    "# summary_display = format_numeric2(summary,\n",
    "#                                   summary.columns.values.tolist(),\n",
    "#                                  [\"None\",\"dollar\",\"None\",\"dollar\"])\n",
    "# summary = format_numeric(summary, \"Average Price\")\n",
    "# summary = format_numeric(summary, \"Total Revenue\")\n",
    "summary[\"Average Price\"] = summary[\"Average Price\"].map(\"${:,.2f}\".format)\n",
    "summary[\"Total Revenue\"] = summary[\"Total Revenue\"].map(\"${:,.2f}\".format)\n",
    "\n",
    "# Display\n",
    "summary"
   ]
  },
  {
   "cell_type": "markdown",
   "metadata": {},
   "source": [
    "## Gender Demographics"
   ]
  },
  {
   "cell_type": "markdown",
   "metadata": {},
   "source": [
    "* Percentage and Count of Male Players\n",
    "\n",
    "* Percentage and Count of Female Players\n",
    "\n",
    "* Percentage and Count of Other / Non-Disclosed\n",
    "\n"
   ]
  },
  {
   "cell_type": "code",
   "execution_count": null,
   "metadata": {},
   "outputs": [],
   "source": [
    "# Dropping all duplicates players\n",
    "player_table = purchase_data.drop_duplicates('SN') #[['SN','Gender']]\n",
    "\n",
    "# Calculating the number and pc of players according to gender\n",
    "nb_by_gender = player_table['Gender'].value_counts()\n",
    "pc_by_gender = nb_by_gender/total_player*100\n",
    "\n",
    "# Concatenating the dataframes\n",
    "gender_demographics = pd.DataFrame({\"Total Count\": nb_by_gender,\n",
    "                                   \"Percentage of Players\": pc_by_gender})\n",
    "\n",
    "# Formating\n",
    "gender_demographics = format_numeric(gender_demographics,\"Percentage of Players\",\"percent\")\n",
    "\n",
    "# Display\n",
    "gender_demographics"
   ]
  },
  {
   "cell_type": "markdown",
   "metadata": {},
   "source": [
    "\n",
    "## Purchasing Analysis (Gender)"
   ]
  },
  {
   "cell_type": "markdown",
   "metadata": {},
   "source": [
    "* Run basic calculations to obtain purchase count, avg. purchase price, avg. purchase total per person etc. by gender\n",
    "\n",
    "\n",
    "\n",
    "\n",
    "* Create a summary data frame to hold the results\n",
    "\n",
    "\n",
    "* Optional: give the displayed data cleaner formatting\n",
    "\n",
    "\n",
    "* Display the summary data frame"
   ]
  },
  {
   "cell_type": "code",
   "execution_count": null,
   "metadata": {},
   "outputs": [],
   "source": [
    "# Grouping the dataframe according to Gender\n",
    "grouped = purchase_data.groupby(['Gender'])\n",
    "\n",
    "# Building the summary dataframe with counts, avg ...\n",
    "p_gender = pd.DataFrame({\"Purchase Count\" : grouped['Purchase ID'].count(),\n",
    "                        \"Average Purchase Price\" : grouped['Price'].mean(),\n",
    "                        \"Total Purchase Value\" : grouped['Price'].sum(),\n",
    "                        \"Avg Total Purchase per Person\" : grouped['Price'].sum()/nb_by_gender})\n",
    "\n",
    "# Make it look prettier\n",
    "p_gender = format_numeric(p_gender, \"Average Purchase Price\")\n",
    "p_gender = format_numeric(p_gender, \"Total Purchase Value\")\n",
    "p_gender = format_numeric(p_gender, \"Avg Total Purchase per Person\")\n",
    "\n",
    "# Display\n",
    "p_gender"
   ]
  },
  {
   "cell_type": "markdown",
   "metadata": {},
   "source": [
    "## Age Demographics"
   ]
  },
  {
   "cell_type": "markdown",
   "metadata": {},
   "source": [
    "* Establish bins for ages\n",
    "\n",
    "\n",
    "* Categorize the existing players using the age bins. Hint: use pd.cut()\n",
    "\n",
    "\n",
    "* Calculate the numbers and percentages by age group\n",
    "\n",
    "\n",
    "* Create a summary data frame to hold the results\n",
    "\n",
    "\n",
    "* Optional: round the percentage column to two decimal points\n",
    "\n",
    "\n",
    "* Display Age Demographics Table\n"
   ]
  },
  {
   "cell_type": "code",
   "execution_count": null,
   "metadata": {},
   "outputs": [],
   "source": [
    "# Establish bins\n",
    "max_age = purchase_data['Age'].max()\n",
    "bins = [0, 9, 14, 19, 24, 29, 34, 39, 100]\n",
    "grp_names = [\"<10\", \"10-14\", \"15-19\", \"20-24\", \"25-29\", \"30-34\", \"35-39\", \"40+\"]\n",
    "\n",
    "# Cutting the dataFrame\n",
    "#-> using the player table build earlier by droping the duplicates ID players\n",
    "age_cut = pd.cut(player_table['Age'], bins, labels=grp_names)\n",
    "\n",
    "# Calcultating the amount of players for each age range and the percentages\n",
    "players_by_AgeRange = age_cut.value_counts()\n",
    "pc_by_AgeRange = players_by_AgeRange/total_player*100\n",
    "\n",
    "# Building the dataframe\n",
    "age_demographics = pd.DataFrame({\"Total Count\" : players_by_AgeRange,\n",
    "                                \"Percentage of Players\" : pc_by_AgeRange})\n",
    "\n",
    "# Sorting according to the grp_names\n",
    "age_demographics = age_demographics.reindex(axis='index', labels=grp_names)\n",
    "# age_demographics.sort_index(inplace=True) \n",
    "\n",
    "# Formating the numeric values\n",
    "age_demographics = format_numeric(age_demographics,\"Percentage of Players\",\"percent\")\n",
    "\n",
    "#Display\n",
    "age_demographics"
   ]
  },
  {
   "cell_type": "markdown",
   "metadata": {},
   "source": [
    "## Purchasing Analysis (Age)"
   ]
  },
  {
   "cell_type": "markdown",
   "metadata": {},
   "source": [
    "* Bin the purchase_data data frame by age\n",
    "\n",
    "\n",
    "* Run basic calculations to obtain purchase count, avg. purchase price, avg. purchase total per person etc. in the table below\n",
    "\n",
    "\n",
    "* Create a summary data frame to hold the results\n",
    "\n",
    "\n",
    "* Optional: give the displayed data cleaner formatting\n",
    "\n",
    "\n",
    "* Display the summary data frame"
   ]
  },
  {
   "cell_type": "code",
   "execution_count": null,
   "metadata": {},
   "outputs": [],
   "source": [
    "# Cutting the dataFrame and grouping by Age ranges\n",
    "purchase_data['Age ranges'] = pd.cut(purchase_data['Age'], bins, labels=grp_names)\n",
    "grouped_by_age = purchase_data.groupby(by=\"Age ranges\")\n",
    "\n",
    "# Calculating purchase count, avg price, total etc... and adding to a summary DataFrame\n",
    "p_by_age = pd.DataFrame({\"Purchase Count\" : grouped_by_age['Purchase ID'].count(),\n",
    "                        \"Average Purchase Price\" : grouped_by_age['Price'].mean(),\n",
    "                        \"Total Purchase Value\" : grouped_by_age['Price'].sum(),\n",
    "                        \"Avg Total Purchase per Person\" : grouped_by_age['Price'].sum()/players_by_AgeRange })\n",
    "\n",
    "# reindexing according to the bins names\n",
    "p_by_age = p_by_age.reindex(axis='index',  labels=grp_names)\n",
    "\n",
    "# Formating the dollar values\n",
    "p_by_age = format_numeric(p_by_age,\"Average Purchase Price\")\n",
    "p_by_age = format_numeric(p_by_age,\"Total Purchase Value\")\n",
    "p_by_age = format_numeric(p_by_age,\"Avg Total Purchase per Person\")\n",
    "\n",
    "# Display\n",
    "p_by_age"
   ]
  },
  {
   "cell_type": "markdown",
   "metadata": {},
   "source": [
    "## Top Spenders"
   ]
  },
  {
   "cell_type": "markdown",
   "metadata": {},
   "source": [
    "* Run basic calculations to obtain the results in the table below\n",
    "\n",
    "\n",
    "* Create a summary data frame to hold the results\n",
    "\n",
    "\n",
    "* Sort the total purchase value column in descending order\n",
    "\n",
    "\n",
    "* Optional: give the displayed data cleaner formatting\n",
    "\n",
    "\n",
    "* Display a preview of the summary data frame\n",
    "\n"
   ]
  },
  {
   "cell_type": "code",
   "execution_count": null,
   "metadata": {},
   "outputs": [],
   "source": [
    "# Grouping the dataFrame by user ID\n",
    "grouped_by_user = purchase_data.groupby(['SN'])\n",
    "\n",
    "# Summary dataFrame \n",
    "top_spenders = pd.DataFrame({\"Purchase Count\" : grouped_by_user['Purchase ID'].count(),\n",
    "                            \"Avg Purchase Price\" : grouped_by_user['Price'].mean(),\n",
    "                            \"Total Purchase Value\" : grouped_by_user['Price'].sum()})\n",
    "\n",
    "# Sorting the values in descending order to get the top buyers first\n",
    "top_spenders = top_spenders.sort_values(by=\"Total Purchase Value\", ascending=False)\n",
    "\n",
    "# Formating the price values\n",
    "top_spenders = format_numeric(top_spenders,\"Avg Purchase Price\")\n",
    "top_spenders = format_numeric(top_spenders,\"Total Purchase Value\")\n",
    "\n",
    "# Display\n",
    "top_spenders.head(5)"
   ]
  },
  {
   "cell_type": "markdown",
   "metadata": {},
   "source": [
    "## Most Popular Items"
   ]
  },
  {
   "cell_type": "markdown",
   "metadata": {},
   "source": [
    "* Retrieve the Item ID, Item Name, and Item Price columns\n",
    "\n",
    "\n",
    "* Group by Item ID and Item Name. Perform calculations to obtain purchase count, item price, and total purchase value\n",
    "\n",
    "\n",
    "* Create a summary data frame to hold the results\n",
    "\n",
    "\n",
    "* Sort the purchase count column in descending order\n",
    "\n",
    "\n",
    "* Optional: give the displayed data cleaner formatting\n",
    "\n",
    "\n",
    "* Display a preview of the summary data frame\n",
    "\n"
   ]
  },
  {
   "cell_type": "code",
   "execution_count": null,
   "metadata": {},
   "outputs": [],
   "source": [
    "# Grouping by Item ID and Item Name\n",
    "grouped_item = purchase_data.groupby([\"Item ID\",\"Item Name\"])\n",
    "\n",
    "# Building the summary dataFrame\n",
    "item_summary = pd.DataFrame({\"Purchase Count\" : grouped_item['Purchase ID'].count(),\n",
    "                             \"Item Price\" : grouped_item['Price'].mean(),\n",
    "                            \"Total Purchase Value\" : grouped_item['Price'].sum()})\n",
    "\n",
    "# Sorting the value to identify the best items\n",
    "item_summary = item_summary.sort_values(by=\"Purchase Count\", ascending=False)\n",
    "\n",
    "# Formating the price values\n",
    "item_summary = format_numeric(item_summary, \"Item Price\")\n",
    "item_summary = format_numeric(item_summary, \"Total Purchase Value\")\n",
    "\n",
    "# Display\n",
    "item_summary.head(5)"
   ]
  },
  {
   "cell_type": "markdown",
   "metadata": {},
   "source": [
    "## Most Profitable Items"
   ]
  },
  {
   "cell_type": "markdown",
   "metadata": {},
   "source": [
    "* Sort the above table by total purchase value in descending order\n",
    "\n",
    "\n",
    "* Optional: give the displayed data cleaner formatting\n",
    "\n",
    "\n",
    "* Display a preview of the data frame\n",
    "\n"
   ]
  },
  {
   "cell_type": "code",
   "execution_count": null,
   "metadata": {},
   "outputs": [],
   "source": [
    "# In order to sort the Total Purchase Value, we need to format them back to numeric\n",
    "# item_summary['Total Purchase Value'] = item_summary['Total Purchase Value'].str.replace('$','')\n",
    "# item_summary['Total Purchase Value'] = pd.to_numeric(item_summary['Total Purchase Value'])\n",
    "\n",
    "# Sorting the values according to total purchase value\n",
    "item_summary = item_summary.sort_values(by=\"Total Purchase Value\", ascending=False)\n",
    "\n",
    "# Reformating the Total Purchase value column\n",
    "item_summary = format_numeric(item_summary, \"Total Purchase Value\")\n",
    "\n",
    "# Display\n",
    "item_summary.head(5)"
   ]
  },
  {
   "cell_type": "code",
   "execution_count": null,
   "metadata": {},
   "outputs": [],
   "source": []
  },
  {
   "cell_type": "code",
   "execution_count": null,
   "metadata": {},
   "outputs": [],
   "source": []
  }
 ],
 "metadata": {
  "anaconda-cloud": {},
  "kernel_info": {
   "name": "python3"
  },
  "kernelspec": {
   "display_name": "Python 3",
   "language": "python",
   "name": "python3"
  },
  "language_info": {
   "codemirror_mode": {
    "name": "ipython",
    "version": 3
   },
   "file_extension": ".py",
   "mimetype": "text/x-python",
   "name": "python",
   "nbconvert_exporter": "python",
   "pygments_lexer": "ipython3",
   "version": "3.6.5"
  },
  "nteract": {
   "version": "0.2.0"
  }
 },
 "nbformat": 4,
 "nbformat_minor": 2
}
